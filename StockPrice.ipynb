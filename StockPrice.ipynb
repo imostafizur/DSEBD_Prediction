{
 "cells": [
  {
   "cell_type": "markdown",
   "metadata": {},
   "source": [
    "### Stock Price prediction model"
   ]
  },
  {
   "cell_type": "code",
   "execution_count": 135,
   "metadata": {},
   "outputs": [],
   "source": [
    "import pandas as pd\n",
    "from typing import List\n",
    "import numpy as np\n",
    "import matplotlib.pyplot as plt\n",
    "import seaborn as sns\n",
    "import scipy.stats as stats\n",
    "from sklearn.model_selection import train_test_split\n",
    "from sklearn import svm\n",
    "from sklearn.metrics import accuracy_score\n",
    "from sklearn.metrics import confusion_matrix\n",
    "from sklearn.metrics import classification_report\n",
    "from sklearn.metrics import roc_auc_score\n",
    "from sklearn.metrics import roc_curve\n",
    "from sklearn.metrics import auc\n",
    "from sklearn.metrics import precision_recall_curve\n",
    "from sklearn.metrics import average_precision_score\n",
    "from sklearn.metrics import precision_recall_fscore_support"
   ]
  },
  {
   "cell_type": "code",
   "execution_count": 136,
   "metadata": {},
   "outputs": [],
   "source": [
    "# load CSV file\n",
    "df = pd.read_csv('Stockprice.csv')"
   ]
  },
  {
   "cell_type": "markdown",
   "metadata": {},
   "source": [
    "#### Data Prepossessing"
   ]
  },
  {
   "cell_type": "code",
   "execution_count": 137,
   "metadata": {},
   "outputs": [
    {
     "name": "stdout",
     "output_type": "stream",
     "text": [
      "Date         object\n",
      "Price       float64\n",
      "Open        float64\n",
      "High        float64\n",
      "Low         float64\n",
      "Vol.         object\n",
      "Change %     object\n",
      "dtype: object\n"
     ]
    }
   ],
   "source": [
    "# type of data\n",
    "print(df.dtypes)"
   ]
  },
  {
   "cell_type": "code",
   "execution_count": 138,
   "metadata": {},
   "outputs": [
    {
     "name": "stdout",
     "output_type": "stream",
     "text": [
      "<class 'pandas.core.frame.DataFrame'>\n",
      "RangeIndex: 949 entries, 0 to 948\n",
      "Data columns (total 7 columns):\n",
      " #   Column    Non-Null Count  Dtype  \n",
      "---  ------    --------------  -----  \n",
      " 0   Date      949 non-null    object \n",
      " 1   Price     949 non-null    float64\n",
      " 2   Open      949 non-null    float64\n",
      " 3   High      949 non-null    float64\n",
      " 4   Low       949 non-null    float64\n",
      " 5   Vol.      948 non-null    object \n",
      " 6   Change %  949 non-null    object \n",
      "dtypes: float64(4), object(3)\n",
      "memory usage: 52.0+ KB\n"
     ]
    }
   ],
   "source": [
    "df.info()"
   ]
  },
  {
   "cell_type": "code",
   "execution_count": 139,
   "metadata": {},
   "outputs": [
    {
     "data": {
      "text/html": [
       "<div>\n",
       "<style scoped>\n",
       "    .dataframe tbody tr th:only-of-type {\n",
       "        vertical-align: middle;\n",
       "    }\n",
       "\n",
       "    .dataframe tbody tr th {\n",
       "        vertical-align: top;\n",
       "    }\n",
       "\n",
       "    .dataframe thead th {\n",
       "        text-align: right;\n",
       "    }\n",
       "</style>\n",
       "<table border=\"1\" class=\"dataframe\">\n",
       "  <thead>\n",
       "    <tr style=\"text-align: right;\">\n",
       "      <th></th>\n",
       "      <th>Date</th>\n",
       "      <th>Price</th>\n",
       "      <th>Open</th>\n",
       "      <th>High</th>\n",
       "      <th>Low</th>\n",
       "      <th>Vol.</th>\n",
       "      <th>Change %</th>\n",
       "    </tr>\n",
       "  </thead>\n",
       "  <tbody>\n",
       "    <tr>\n",
       "      <th>0</th>\n",
       "      <td>02/02/2023</td>\n",
       "      <td>286.6</td>\n",
       "      <td>286.6</td>\n",
       "      <td>286.6</td>\n",
       "      <td>286.6</td>\n",
       "      <td>6.30K</td>\n",
       "      <td>0.00%</td>\n",
       "    </tr>\n",
       "    <tr>\n",
       "      <th>1</th>\n",
       "      <td>02/01/2023</td>\n",
       "      <td>286.6</td>\n",
       "      <td>286.6</td>\n",
       "      <td>286.6</td>\n",
       "      <td>286.6</td>\n",
       "      <td>2.60K</td>\n",
       "      <td>0.00%</td>\n",
       "    </tr>\n",
       "    <tr>\n",
       "      <th>2</th>\n",
       "      <td>01/31/2023</td>\n",
       "      <td>286.6</td>\n",
       "      <td>286.6</td>\n",
       "      <td>286.6</td>\n",
       "      <td>286.6</td>\n",
       "      <td>9.13K</td>\n",
       "      <td>0.00%</td>\n",
       "    </tr>\n",
       "    <tr>\n",
       "      <th>3</th>\n",
       "      <td>01/30/2023</td>\n",
       "      <td>286.6</td>\n",
       "      <td>286.6</td>\n",
       "      <td>286.6</td>\n",
       "      <td>286.6</td>\n",
       "      <td>7.16K</td>\n",
       "      <td>0.00%</td>\n",
       "    </tr>\n",
       "    <tr>\n",
       "      <th>4</th>\n",
       "      <td>01/29/2023</td>\n",
       "      <td>286.6</td>\n",
       "      <td>286.6</td>\n",
       "      <td>286.6</td>\n",
       "      <td>286.6</td>\n",
       "      <td>4.99K</td>\n",
       "      <td>0.00%</td>\n",
       "    </tr>\n",
       "  </tbody>\n",
       "</table>\n",
       "</div>"
      ],
      "text/plain": [
       "         Date  Price   Open   High    Low   Vol. Change %\n",
       "0  02/02/2023  286.6  286.6  286.6  286.6  6.30K    0.00%\n",
       "1  02/01/2023  286.6  286.6  286.6  286.6  2.60K    0.00%\n",
       "2  01/31/2023  286.6  286.6  286.6  286.6  9.13K    0.00%\n",
       "3  01/30/2023  286.6  286.6  286.6  286.6  7.16K    0.00%\n",
       "4  01/29/2023  286.6  286.6  286.6  286.6  4.99K    0.00%"
      ]
     },
     "execution_count": 139,
     "metadata": {},
     "output_type": "execute_result"
    }
   ],
   "source": [
    "df.head()"
   ]
  },
  {
   "cell_type": "code",
   "execution_count": 140,
   "metadata": {},
   "outputs": [
    {
     "data": {
      "text/html": [
       "<div>\n",
       "<style scoped>\n",
       "    .dataframe tbody tr th:only-of-type {\n",
       "        vertical-align: middle;\n",
       "    }\n",
       "\n",
       "    .dataframe tbody tr th {\n",
       "        vertical-align: top;\n",
       "    }\n",
       "\n",
       "    .dataframe thead th {\n",
       "        text-align: right;\n",
       "    }\n",
       "</style>\n",
       "<table border=\"1\" class=\"dataframe\">\n",
       "  <thead>\n",
       "    <tr style=\"text-align: right;\">\n",
       "      <th></th>\n",
       "      <th>Date</th>\n",
       "      <th>Price</th>\n",
       "      <th>Open</th>\n",
       "      <th>High</th>\n",
       "      <th>Low</th>\n",
       "      <th>Vol.</th>\n",
       "      <th>Change %</th>\n",
       "    </tr>\n",
       "  </thead>\n",
       "  <tbody>\n",
       "    <tr>\n",
       "      <th>0</th>\n",
       "      <td>02/02/2023</td>\n",
       "      <td>286.6</td>\n",
       "      <td>286.6</td>\n",
       "      <td>286.6</td>\n",
       "      <td>286.6</td>\n",
       "      <td>6.30K</td>\n",
       "      <td>0.00</td>\n",
       "    </tr>\n",
       "    <tr>\n",
       "      <th>1</th>\n",
       "      <td>02/01/2023</td>\n",
       "      <td>286.6</td>\n",
       "      <td>286.6</td>\n",
       "      <td>286.6</td>\n",
       "      <td>286.6</td>\n",
       "      <td>2.60K</td>\n",
       "      <td>0.00</td>\n",
       "    </tr>\n",
       "    <tr>\n",
       "      <th>2</th>\n",
       "      <td>01/31/2023</td>\n",
       "      <td>286.6</td>\n",
       "      <td>286.6</td>\n",
       "      <td>286.6</td>\n",
       "      <td>286.6</td>\n",
       "      <td>9.13K</td>\n",
       "      <td>0.00</td>\n",
       "    </tr>\n",
       "    <tr>\n",
       "      <th>3</th>\n",
       "      <td>01/30/2023</td>\n",
       "      <td>286.6</td>\n",
       "      <td>286.6</td>\n",
       "      <td>286.6</td>\n",
       "      <td>286.6</td>\n",
       "      <td>7.16K</td>\n",
       "      <td>0.00</td>\n",
       "    </tr>\n",
       "    <tr>\n",
       "      <th>4</th>\n",
       "      <td>01/29/2023</td>\n",
       "      <td>286.6</td>\n",
       "      <td>286.6</td>\n",
       "      <td>286.6</td>\n",
       "      <td>286.6</td>\n",
       "      <td>4.99K</td>\n",
       "      <td>0.00</td>\n",
       "    </tr>\n",
       "  </tbody>\n",
       "</table>\n",
       "</div>"
      ],
      "text/plain": [
       "         Date  Price   Open   High    Low   Vol. Change %\n",
       "0  02/02/2023  286.6  286.6  286.6  286.6  6.30K     0.00\n",
       "1  02/01/2023  286.6  286.6  286.6  286.6  2.60K     0.00\n",
       "2  01/31/2023  286.6  286.6  286.6  286.6  9.13K     0.00\n",
       "3  01/30/2023  286.6  286.6  286.6  286.6  7.16K     0.00\n",
       "4  01/29/2023  286.6  286.6  286.6  286.6  4.99K     0.00"
      ]
     },
     "execution_count": 140,
     "metadata": {},
     "output_type": "execute_result"
    }
   ],
   "source": [
    "# Remove % sign from the data\n",
    "df['Change %'] = df['Change %'].str.replace('%', '')\n",
    "df.head()"
   ]
  },
  {
   "cell_type": "code",
   "execution_count": 141,
   "metadata": {},
   "outputs": [],
   "source": [
    "# Remove K sign from the data\n",
    "df['Vol.'] = df['Vol.'].str.replace('K', '')"
   ]
  },
  {
   "cell_type": "code",
   "execution_count": 142,
   "metadata": {},
   "outputs": [
    {
     "data": {
      "text/html": [
       "<div>\n",
       "<style scoped>\n",
       "    .dataframe tbody tr th:only-of-type {\n",
       "        vertical-align: middle;\n",
       "    }\n",
       "\n",
       "    .dataframe tbody tr th {\n",
       "        vertical-align: top;\n",
       "    }\n",
       "\n",
       "    .dataframe thead th {\n",
       "        text-align: right;\n",
       "    }\n",
       "</style>\n",
       "<table border=\"1\" class=\"dataframe\">\n",
       "  <thead>\n",
       "    <tr style=\"text-align: right;\">\n",
       "      <th></th>\n",
       "      <th>Date</th>\n",
       "      <th>Price</th>\n",
       "      <th>Open</th>\n",
       "      <th>High</th>\n",
       "      <th>Low</th>\n",
       "      <th>Vol.</th>\n",
       "      <th>Change %</th>\n",
       "    </tr>\n",
       "  </thead>\n",
       "  <tbody>\n",
       "    <tr>\n",
       "      <th>0</th>\n",
       "      <td>02/02/2023</td>\n",
       "      <td>286.6</td>\n",
       "      <td>286.6</td>\n",
       "      <td>286.6</td>\n",
       "      <td>286.6</td>\n",
       "      <td>6.30</td>\n",
       "      <td>0.00</td>\n",
       "    </tr>\n",
       "    <tr>\n",
       "      <th>1</th>\n",
       "      <td>02/01/2023</td>\n",
       "      <td>286.6</td>\n",
       "      <td>286.6</td>\n",
       "      <td>286.6</td>\n",
       "      <td>286.6</td>\n",
       "      <td>2.60</td>\n",
       "      <td>0.00</td>\n",
       "    </tr>\n",
       "    <tr>\n",
       "      <th>2</th>\n",
       "      <td>01/31/2023</td>\n",
       "      <td>286.6</td>\n",
       "      <td>286.6</td>\n",
       "      <td>286.6</td>\n",
       "      <td>286.6</td>\n",
       "      <td>9.13</td>\n",
       "      <td>0.00</td>\n",
       "    </tr>\n",
       "    <tr>\n",
       "      <th>3</th>\n",
       "      <td>01/30/2023</td>\n",
       "      <td>286.6</td>\n",
       "      <td>286.6</td>\n",
       "      <td>286.6</td>\n",
       "      <td>286.6</td>\n",
       "      <td>7.16</td>\n",
       "      <td>0.00</td>\n",
       "    </tr>\n",
       "    <tr>\n",
       "      <th>4</th>\n",
       "      <td>01/29/2023</td>\n",
       "      <td>286.6</td>\n",
       "      <td>286.6</td>\n",
       "      <td>286.6</td>\n",
       "      <td>286.6</td>\n",
       "      <td>4.99</td>\n",
       "      <td>0.00</td>\n",
       "    </tr>\n",
       "  </tbody>\n",
       "</table>\n",
       "</div>"
      ],
      "text/plain": [
       "         Date  Price   Open   High    Low  Vol. Change %\n",
       "0  02/02/2023  286.6  286.6  286.6  286.6  6.30     0.00\n",
       "1  02/01/2023  286.6  286.6  286.6  286.6  2.60     0.00\n",
       "2  01/31/2023  286.6  286.6  286.6  286.6  9.13     0.00\n",
       "3  01/30/2023  286.6  286.6  286.6  286.6  7.16     0.00\n",
       "4  01/29/2023  286.6  286.6  286.6  286.6  4.99     0.00"
      ]
     },
     "execution_count": 142,
     "metadata": {},
     "output_type": "execute_result"
    }
   ],
   "source": [
    "df.head()"
   ]
  },
  {
   "cell_type": "code",
   "execution_count": 143,
   "metadata": {},
   "outputs": [
    {
     "name": "stdout",
     "output_type": "stream",
     "text": [
      "<class 'pandas.core.frame.DataFrame'>\n",
      "RangeIndex: 949 entries, 0 to 948\n",
      "Data columns (total 7 columns):\n",
      " #   Column    Non-Null Count  Dtype  \n",
      "---  ------    --------------  -----  \n",
      " 0   Date      949 non-null    object \n",
      " 1   Price     949 non-null    float64\n",
      " 2   Open      949 non-null    float64\n",
      " 3   High      949 non-null    float64\n",
      " 4   Low       949 non-null    float64\n",
      " 5   Vol.      948 non-null    object \n",
      " 6   Change %  949 non-null    object \n",
      "dtypes: float64(4), object(3)\n",
      "memory usage: 52.0+ KB\n"
     ]
    }
   ],
   "source": [
    "df.info()"
   ]
  },
  {
   "cell_type": "code",
   "execution_count": 144,
   "metadata": {},
   "outputs": [],
   "source": [
    "def convert_to_float(val):\n",
    "    try:\n",
    "        return float(val)\n",
    "    except ValueError:\n",
    "        return 0.0"
   ]
  },
  {
   "cell_type": "code",
   "execution_count": 145,
   "metadata": {},
   "outputs": [],
   "source": [
    "df['Vol.'] = df['Vol.'].apply(convert_to_float)\n"
   ]
  },
  {
   "cell_type": "code",
   "execution_count": 146,
   "metadata": {},
   "outputs": [
    {
     "name": "stdout",
     "output_type": "stream",
     "text": [
      "<class 'pandas.core.frame.DataFrame'>\n",
      "RangeIndex: 949 entries, 0 to 948\n",
      "Data columns (total 7 columns):\n",
      " #   Column    Non-Null Count  Dtype  \n",
      "---  ------    --------------  -----  \n",
      " 0   Date      949 non-null    object \n",
      " 1   Price     949 non-null    float64\n",
      " 2   Open      949 non-null    float64\n",
      " 3   High      949 non-null    float64\n",
      " 4   Low       949 non-null    float64\n",
      " 5   Vol.      948 non-null    float64\n",
      " 6   Change %  949 non-null    object \n",
      "dtypes: float64(5), object(2)\n",
      "memory usage: 52.0+ KB\n"
     ]
    }
   ],
   "source": [
    "df.info()"
   ]
  },
  {
   "cell_type": "code",
   "execution_count": 147,
   "metadata": {},
   "outputs": [],
   "source": [
    "df['Change %'] = df['Change %'].apply(convert_to_float)\n"
   ]
  },
  {
   "cell_type": "code",
   "execution_count": 148,
   "metadata": {},
   "outputs": [
    {
     "name": "stdout",
     "output_type": "stream",
     "text": [
      "<class 'pandas.core.frame.DataFrame'>\n",
      "RangeIndex: 949 entries, 0 to 948\n",
      "Data columns (total 7 columns):\n",
      " #   Column    Non-Null Count  Dtype  \n",
      "---  ------    --------------  -----  \n",
      " 0   Date      949 non-null    object \n",
      " 1   Price     949 non-null    float64\n",
      " 2   Open      949 non-null    float64\n",
      " 3   High      949 non-null    float64\n",
      " 4   Low       949 non-null    float64\n",
      " 5   Vol.      948 non-null    float64\n",
      " 6   Change %  949 non-null    float64\n",
      "dtypes: float64(6), object(1)\n",
      "memory usage: 52.0+ KB\n"
     ]
    }
   ],
   "source": [
    "df.info()"
   ]
  },
  {
   "cell_type": "code",
   "execution_count": 149,
   "metadata": {},
   "outputs": [
    {
     "name": "stderr",
     "output_type": "stream",
     "text": [
      "C:\\Users\\Mostafizur\\AppData\\Local\\Temp\\ipykernel_14372\\3026126805.py:2: UserWarning: \n",
      "\n",
      "`distplot` is a deprecated function and will be removed in seaborn v0.14.0.\n",
      "\n",
      "Please adapt your code to use either `displot` (a figure-level function with\n",
      "similar flexibility) or `histplot` (an axes-level function for histograms).\n",
      "\n",
      "For a guide to updating your code to use the new functions, please see\n",
      "https://gist.github.com/mwaskom/de44147ed2974457ad6372750bbe5751\n",
      "\n",
      "  sns.distplot(df['Change %'], fit=stats.norm)\n"
     ]
    },
    {
     "data": {
      "text/plain": [
       "<AxesSubplot:xlabel='Change %', ylabel='Density'>"
      ]
     },
     "execution_count": 149,
     "metadata": {},
     "output_type": "execute_result"
    },
    {
     "data": {
      "image/png": "[encoded data removed]",
      "text/plain": [
       "<Figure size 640x480 with 1 Axes>"
      ]
     },
     "metadata": {},
     "output_type": "display_data"
    }
   ],
   "source": [
    "# Plot the data to see the distribution\n",
    "sns.distplot(df['Change %'], fit=stats.norm)\n",
    " "
   ]
  },
  {
   "cell_type": "code",
   "execution_count": 150,
   "metadata": {},
   "outputs": [
    {
     "data": {
      "image/png": "[encoded data removed]",
      "text/plain": [
       "<Figure size 1000x500 with 1 Axes>"
      ]
     },
     "metadata": {},
     "output_type": "display_data"
    }
   ],
   "source": [
    "# time series data plot\n",
    "df['Date'] = pd.to_datetime(df['Date'])\n",
    "df.set_index('Date', inplace=True)\n",
    "df['Change %'].plot(figsize=(10, 5))\n",
    "plt.show()\n",
    " "
   ]
  },
  {
   "cell_type": "code",
   "execution_count": 152,
   "metadata": {},
   "outputs": [
    {
     "data": {
      "text/html": [
       "<div>\n",
       "<style scoped>\n",
       "    .dataframe tbody tr th:only-of-type {\n",
       "        vertical-align: middle;\n",
       "    }\n",
       "\n",
       "    .dataframe tbody tr th {\n",
       "        vertical-align: top;\n",
       "    }\n",
       "\n",
       "    .dataframe thead th {\n",
       "        text-align: right;\n",
       "    }\n",
       "</style>\n",
       "<table border=\"1\" class=\"dataframe\">\n",
       "  <thead>\n",
       "    <tr style=\"text-align: right;\">\n",
       "      <th></th>\n",
       "      <th>Price</th>\n",
       "      <th>Open</th>\n",
       "      <th>High</th>\n",
       "      <th>Low</th>\n",
       "      <th>Vol.</th>\n",
       "      <th>Change %</th>\n",
       "    </tr>\n",
       "    <tr>\n",
       "      <th>Date</th>\n",
       "      <th></th>\n",
       "      <th></th>\n",
       "      <th></th>\n",
       "      <th></th>\n",
       "      <th></th>\n",
       "      <th></th>\n",
       "    </tr>\n",
       "  </thead>\n",
       "  <tbody>\n",
       "    <tr>\n",
       "      <th>2023-02-02</th>\n",
       "      <td>286.6</td>\n",
       "      <td>286.6</td>\n",
       "      <td>286.6</td>\n",
       "      <td>286.6</td>\n",
       "      <td>6.30</td>\n",
       "      <td>0</td>\n",
       "    </tr>\n",
       "    <tr>\n",
       "      <th>2023-02-01</th>\n",
       "      <td>286.6</td>\n",
       "      <td>286.6</td>\n",
       "      <td>286.6</td>\n",
       "      <td>286.6</td>\n",
       "      <td>2.60</td>\n",
       "      <td>0</td>\n",
       "    </tr>\n",
       "    <tr>\n",
       "      <th>2023-01-31</th>\n",
       "      <td>286.6</td>\n",
       "      <td>286.6</td>\n",
       "      <td>286.6</td>\n",
       "      <td>286.6</td>\n",
       "      <td>9.13</td>\n",
       "      <td>0</td>\n",
       "    </tr>\n",
       "    <tr>\n",
       "      <th>2023-01-30</th>\n",
       "      <td>286.6</td>\n",
       "      <td>286.6</td>\n",
       "      <td>286.6</td>\n",
       "      <td>286.6</td>\n",
       "      <td>7.16</td>\n",
       "      <td>0</td>\n",
       "    </tr>\n",
       "    <tr>\n",
       "      <th>2023-01-29</th>\n",
       "      <td>286.6</td>\n",
       "      <td>286.6</td>\n",
       "      <td>286.6</td>\n",
       "      <td>286.6</td>\n",
       "      <td>4.99</td>\n",
       "      <td>0</td>\n",
       "    </tr>\n",
       "  </tbody>\n",
       "</table>\n",
       "</div>"
      ],
      "text/plain": [
       "            Price   Open   High    Low  Vol.  Change %\n",
       "Date                                                  \n",
       "2023-02-02  286.6  286.6  286.6  286.6  6.30         0\n",
       "2023-02-01  286.6  286.6  286.6  286.6  2.60         0\n",
       "2023-01-31  286.6  286.6  286.6  286.6  9.13         0\n",
       "2023-01-30  286.6  286.6  286.6  286.6  7.16         0\n",
       "2023-01-29  286.6  286.6  286.6  286.6  4.99         0"
      ]
     },
     "execution_count": 152,
     "metadata": {},
     "output_type": "execute_result"
    }
   ],
   "source": [
    "# feature engineering\n",
    "df['Change %'] = df['Change %'].apply(lambda x: 1 if x > 0 else 0)\n",
    "df.head()"
   ]
  },
  {
   "cell_type": "code",
   "execution_count": 154,
   "metadata": {},
   "outputs": [
    {
     "name": "stdout",
     "output_type": "stream",
     "text": [
      "Number of features: 6\n"
     ]
    }
   ],
   "source": [
    "# print the number of features\n",
    "print('Number of features: {}'.format(df.shape[1]))"
   ]
  },
  {
   "cell_type": "code",
   "execution_count": 155,
   "metadata": {},
   "outputs": [
    {
     "data": {
      "text/html": [
       "<style type=\"text/css\">\n",
       "#T_ec39d_row0_col0, #T_ec39d_row0_col2, #T_ec39d_row0_col3, #T_ec39d_row1_col1, #T_ec39d_row2_col0, #T_ec39d_row2_col2, #T_ec39d_row3_col0, #T_ec39d_row3_col3, #T_ec39d_row4_col4, #T_ec39d_row5_col5 {\n",
       "  background-color: #b40426;\n",
       "  color: #f1f1f1;\n",
       "}\n",
       "#T_ec39d_row0_col1, #T_ec39d_row1_col0, #T_ec39d_row1_col2 {\n",
       "  background-color: #b8122a;\n",
       "  color: #f1f1f1;\n",
       "}\n",
       "#T_ec39d_row0_col4 {\n",
       "  background-color: #445acc;\n",
       "  color: #f1f1f1;\n",
       "}\n",
       "#T_ec39d_row0_col5 {\n",
       "  background-color: #516ddb;\n",
       "  color: #f1f1f1;\n",
       "}\n",
       "#T_ec39d_row1_col3, #T_ec39d_row2_col1, #T_ec39d_row3_col1 {\n",
       "  background-color: #b70d28;\n",
       "  color: #f1f1f1;\n",
       "}\n",
       "#T_ec39d_row1_col4 {\n",
       "  background-color: #3e51c5;\n",
       "  color: #f1f1f1;\n",
       "}\n",
       "#T_ec39d_row1_col5, #T_ec39d_row3_col4, #T_ec39d_row4_col0, #T_ec39d_row4_col1, #T_ec39d_row4_col2, #T_ec39d_row4_col3 {\n",
       "  background-color: #3b4cc0;\n",
       "  color: #f1f1f1;\n",
       "}\n",
       "#T_ec39d_row2_col3, #T_ec39d_row3_col2 {\n",
       "  background-color: #b50927;\n",
       "  color: #f1f1f1;\n",
       "}\n",
       "#T_ec39d_row2_col4 {\n",
       "  background-color: #4c66d6;\n",
       "  color: #f1f1f1;\n",
       "}\n",
       "#T_ec39d_row2_col5 {\n",
       "  background-color: #4b64d5;\n",
       "  color: #f1f1f1;\n",
       "}\n",
       "#T_ec39d_row3_col5 {\n",
       "  background-color: #455cce;\n",
       "  color: #f1f1f1;\n",
       "}\n",
       "#T_ec39d_row4_col5 {\n",
       "  background-color: #4257c9;\n",
       "  color: #f1f1f1;\n",
       "}\n",
       "#T_ec39d_row5_col0 {\n",
       "  background-color: #6282ea;\n",
       "  color: #f1f1f1;\n",
       "}\n",
       "#T_ec39d_row5_col1 {\n",
       "  background-color: #506bda;\n",
       "  color: #f1f1f1;\n",
       "}\n",
       "#T_ec39d_row5_col2 {\n",
       "  background-color: #536edd;\n",
       "  color: #f1f1f1;\n",
       "}\n",
       "#T_ec39d_row5_col3 {\n",
       "  background-color: #5f7fe8;\n",
       "  color: #f1f1f1;\n",
       "}\n",
       "#T_ec39d_row5_col4 {\n",
       "  background-color: #5d7ce6;\n",
       "  color: #f1f1f1;\n",
       "}\n",
       "</style>\n",
       "<table id=\"T_ec39d\">\n",
       "  <thead>\n",
       "    <tr>\n",
       "      <th class=\"blank level0\" >&nbsp;</th>\n",
       "      <th id=\"T_ec39d_level0_col0\" class=\"col_heading level0 col0\" >Price</th>\n",
       "      <th id=\"T_ec39d_level0_col1\" class=\"col_heading level0 col1\" >Open</th>\n",
       "      <th id=\"T_ec39d_level0_col2\" class=\"col_heading level0 col2\" >High</th>\n",
       "      <th id=\"T_ec39d_level0_col3\" class=\"col_heading level0 col3\" >Low</th>\n",
       "      <th id=\"T_ec39d_level0_col4\" class=\"col_heading level0 col4\" >Vol.</th>\n",
       "      <th id=\"T_ec39d_level0_col5\" class=\"col_heading level0 col5\" >Change %</th>\n",
       "    </tr>\n",
       "  </thead>\n",
       "  <tbody>\n",
       "    <tr>\n",
       "      <th id=\"T_ec39d_level0_row0\" class=\"row_heading level0 row0\" >Price</th>\n",
       "      <td id=\"T_ec39d_row0_col0\" class=\"data row0 col0\" >1.000000</td>\n",
       "      <td id=\"T_ec39d_row0_col1\" class=\"data row0 col1\" >0.987428</td>\n",
       "      <td id=\"T_ec39d_row0_col2\" class=\"data row0 col2\" >0.997268</td>\n",
       "      <td id=\"T_ec39d_row0_col3\" class=\"data row0 col3\" >0.997254</td>\n",
       "      <td id=\"T_ec39d_row0_col4\" class=\"data row0 col4\" >0.088035</td>\n",
       "      <td id=\"T_ec39d_row0_col5\" class=\"data row0 col5\" >0.203348</td>\n",
       "    </tr>\n",
       "    <tr>\n",
       "      <th id=\"T_ec39d_level0_row1\" class=\"row_heading level0 row1\" >Open</th>\n",
       "      <td id=\"T_ec39d_row1_col0\" class=\"data row1 col0\" >0.987428</td>\n",
       "      <td id=\"T_ec39d_row1_col1\" class=\"data row1 col1\" >1.000000</td>\n",
       "      <td id=\"T_ec39d_row1_col2\" class=\"data row1 col2\" >0.989482</td>\n",
       "      <td id=\"T_ec39d_row1_col3\" class=\"data row1 col3\" >0.989931</td>\n",
       "      <td id=\"T_ec39d_row1_col4\" class=\"data row1 col4\" >0.070812</td>\n",
       "      <td id=\"T_ec39d_row1_col5\" class=\"data row1 col5\" >0.138751</td>\n",
       "    </tr>\n",
       "    <tr>\n",
       "      <th id=\"T_ec39d_level0_row2\" class=\"row_heading level0 row2\" >High</th>\n",
       "      <td id=\"T_ec39d_row2_col0\" class=\"data row2 col0\" >0.997268</td>\n",
       "      <td id=\"T_ec39d_row2_col1\" class=\"data row2 col1\" >0.989482</td>\n",
       "      <td id=\"T_ec39d_row2_col2\" class=\"data row2 col2\" >1.000000</td>\n",
       "      <td id=\"T_ec39d_row2_col3\" class=\"data row2 col3\" >0.994010</td>\n",
       "      <td id=\"T_ec39d_row2_col4\" class=\"data row2 col4\" >0.116046</td>\n",
       "      <td id=\"T_ec39d_row2_col5\" class=\"data row2 col5\" >0.186948</td>\n",
       "    </tr>\n",
       "    <tr>\n",
       "      <th id=\"T_ec39d_level0_row3\" class=\"row_heading level0 row3\" >Low</th>\n",
       "      <td id=\"T_ec39d_row3_col0\" class=\"data row3 col0\" >0.997254</td>\n",
       "      <td id=\"T_ec39d_row3_col1\" class=\"data row3 col1\" >0.989931</td>\n",
       "      <td id=\"T_ec39d_row3_col2\" class=\"data row3 col2\" >0.994010</td>\n",
       "      <td id=\"T_ec39d_row3_col3\" class=\"data row3 col3\" >1.000000</td>\n",
       "      <td id=\"T_ec39d_row3_col4\" class=\"data row3 col4\" >0.058194</td>\n",
       "      <td id=\"T_ec39d_row3_col5\" class=\"data row3 col5\" >0.170555</td>\n",
       "    </tr>\n",
       "    <tr>\n",
       "      <th id=\"T_ec39d_level0_row4\" class=\"row_heading level0 row4\" >Vol.</th>\n",
       "      <td id=\"T_ec39d_row4_col0\" class=\"data row4 col0\" >0.088035</td>\n",
       "      <td id=\"T_ec39d_row4_col1\" class=\"data row4 col1\" >0.070812</td>\n",
       "      <td id=\"T_ec39d_row4_col2\" class=\"data row4 col2\" >0.116046</td>\n",
       "      <td id=\"T_ec39d_row4_col3\" class=\"data row4 col3\" >0.058194</td>\n",
       "      <td id=\"T_ec39d_row4_col4\" class=\"data row4 col4\" >1.000000</td>\n",
       "      <td id=\"T_ec39d_row4_col5\" class=\"data row4 col5\" >0.161463</td>\n",
       "    </tr>\n",
       "    <tr>\n",
       "      <th id=\"T_ec39d_level0_row5\" class=\"row_heading level0 row5\" >Change %</th>\n",
       "      <td id=\"T_ec39d_row5_col0\" class=\"data row5 col0\" >0.203348</td>\n",
       "      <td id=\"T_ec39d_row5_col1\" class=\"data row5 col1\" >0.138751</td>\n",
       "      <td id=\"T_ec39d_row5_col2\" class=\"data row5 col2\" >0.186948</td>\n",
       "      <td id=\"T_ec39d_row5_col3\" class=\"data row5 col3\" >0.170555</td>\n",
       "      <td id=\"T_ec39d_row5_col4\" class=\"data row5 col4\" >0.161463</td>\n",
       "      <td id=\"T_ec39d_row5_col5\" class=\"data row5 col5\" >1.000000</td>\n",
       "    </tr>\n",
       "  </tbody>\n",
       "</table>\n"
      ],
      "text/plain": [
       "<pandas.io.formats.style.Styler at 0x2d5f76249d0>"
      ]
     },
     "execution_count": 155,
     "metadata": {},
     "output_type": "execute_result"
    }
   ],
   "source": [
    "# relationship between features\n",
    "corr = df.corr()\n",
    "corr.style.background_gradient(cmap='coolwarm')\n",
    " "
   ]
  },
  {
   "cell_type": "code",
   "execution_count": 151,
   "metadata": {},
   "outputs": [
    {
     "ename": "KeyError",
     "evalue": "\"['Date'] not found in axis\"",
     "output_type": "error",
     "traceback": [
      "\u001b[1;31m---------------------------------------------------------------------------\u001b[0m",
      "\u001b[1;31mKeyError\u001b[0m                                  Traceback (most recent call last)",
      "Cell \u001b[1;32mIn [151], line 2\u001b[0m\n\u001b[0;32m      1\u001b[0m \u001b[39m#drop Date\u001b[39;00m\n\u001b[1;32m----> 2\u001b[0m df\u001b[39m.\u001b[39;49mdrop(\u001b[39m'\u001b[39;49m\u001b[39mDate\u001b[39;49m\u001b[39m'\u001b[39;49m, axis\u001b[39m=\u001b[39;49m\u001b[39m1\u001b[39;49m, inplace\u001b[39m=\u001b[39;49m\u001b[39mTrue\u001b[39;49;00m)\n",
      "File \u001b[1;32mc:\\Users\\Mostafizur\\AppData\\Local\\Programs\\Python\\Python310\\lib\\site-packages\\pandas\\util\\_decorators.py:311\u001b[0m, in \u001b[0;36mdeprecate_nonkeyword_arguments.<locals>.decorate.<locals>.wrapper\u001b[1;34m(*args, **kwargs)\u001b[0m\n\u001b[0;32m    305\u001b[0m \u001b[39mif\u001b[39;00m \u001b[39mlen\u001b[39m(args) \u001b[39m>\u001b[39m num_allow_args:\n\u001b[0;32m    306\u001b[0m     warnings\u001b[39m.\u001b[39mwarn(\n\u001b[0;32m    307\u001b[0m         msg\u001b[39m.\u001b[39mformat(arguments\u001b[39m=\u001b[39marguments),\n\u001b[0;32m    308\u001b[0m         \u001b[39mFutureWarning\u001b[39;00m,\n\u001b[0;32m    309\u001b[0m         stacklevel\u001b[39m=\u001b[39mstacklevel,\n\u001b[0;32m    310\u001b[0m     )\n\u001b[1;32m--> 311\u001b[0m \u001b[39mreturn\u001b[39;00m func(\u001b[39m*\u001b[39margs, \u001b[39m*\u001b[39m\u001b[39m*\u001b[39mkwargs)\n",
      "File \u001b[1;32mc:\\Users\\Mostafizur\\AppData\\Local\\Programs\\Python\\Python310\\lib\\site-packages\\pandas\\core\\frame.py:4957\u001b[0m, in \u001b[0;36mDataFrame.drop\u001b[1;34m(self, labels, axis, index, columns, level, inplace, errors)\u001b[0m\n\u001b[0;32m   4809\u001b[0m \u001b[39m@deprecate_nonkeyword_arguments\u001b[39m(version\u001b[39m=\u001b[39m\u001b[39mNone\u001b[39;00m, allowed_args\u001b[39m=\u001b[39m[\u001b[39m\"\u001b[39m\u001b[39mself\u001b[39m\u001b[39m\"\u001b[39m, \u001b[39m\"\u001b[39m\u001b[39mlabels\u001b[39m\u001b[39m\"\u001b[39m])\n\u001b[0;32m   4810\u001b[0m \u001b[39mdef\u001b[39;00m \u001b[39mdrop\u001b[39m(\n\u001b[0;32m   4811\u001b[0m     \u001b[39mself\u001b[39m,\n\u001b[1;32m   (...)\u001b[0m\n\u001b[0;32m   4818\u001b[0m     errors: \u001b[39mstr\u001b[39m \u001b[39m=\u001b[39m \u001b[39m\"\u001b[39m\u001b[39mraise\u001b[39m\u001b[39m\"\u001b[39m,\n\u001b[0;32m   4819\u001b[0m ):\n\u001b[0;32m   4820\u001b[0m     \u001b[39m\"\"\"\u001b[39;00m\n\u001b[0;32m   4821\u001b[0m \u001b[39m    Drop specified labels from rows or columns.\u001b[39;00m\n\u001b[0;32m   4822\u001b[0m \n\u001b[1;32m   (...)\u001b[0m\n\u001b[0;32m   4955\u001b[0m \u001b[39m            weight  1.0     0.8\u001b[39;00m\n\u001b[0;32m   4956\u001b[0m \u001b[39m    \"\"\"\u001b[39;00m\n\u001b[1;32m-> 4957\u001b[0m     \u001b[39mreturn\u001b[39;00m \u001b[39msuper\u001b[39;49m()\u001b[39m.\u001b[39;49mdrop(\n\u001b[0;32m   4958\u001b[0m         labels\u001b[39m=\u001b[39;49mlabels,\n\u001b[0;32m   4959\u001b[0m         axis\u001b[39m=\u001b[39;49maxis,\n\u001b[0;32m   4960\u001b[0m         index\u001b[39m=\u001b[39;49mindex,\n\u001b[0;32m   4961\u001b[0m         columns\u001b[39m=\u001b[39;49mcolumns,\n\u001b[0;32m   4962\u001b[0m         level\u001b[39m=\u001b[39;49mlevel,\n\u001b[0;32m   4963\u001b[0m         inplace\u001b[39m=\u001b[39;49minplace,\n\u001b[0;32m   4964\u001b[0m         errors\u001b[39m=\u001b[39;49merrors,\n\u001b[0;32m   4965\u001b[0m     )\n",
      "File \u001b[1;32mc:\\Users\\Mostafizur\\AppData\\Local\\Programs\\Python\\Python310\\lib\\site-packages\\pandas\\core\\generic.py:4267\u001b[0m, in \u001b[0;36mNDFrame.drop\u001b[1;34m(self, labels, axis, index, columns, level, inplace, errors)\u001b[0m\n\u001b[0;32m   4265\u001b[0m \u001b[39mfor\u001b[39;00m axis, labels \u001b[39min\u001b[39;00m axes\u001b[39m.\u001b[39mitems():\n\u001b[0;32m   4266\u001b[0m     \u001b[39mif\u001b[39;00m labels \u001b[39mis\u001b[39;00m \u001b[39mnot\u001b[39;00m \u001b[39mNone\u001b[39;00m:\n\u001b[1;32m-> 4267\u001b[0m         obj \u001b[39m=\u001b[39m obj\u001b[39m.\u001b[39;49m_drop_axis(labels, axis, level\u001b[39m=\u001b[39;49mlevel, errors\u001b[39m=\u001b[39;49merrors)\n\u001b[0;32m   4269\u001b[0m \u001b[39mif\u001b[39;00m inplace:\n\u001b[0;32m   4270\u001b[0m     \u001b[39mself\u001b[39m\u001b[39m.\u001b[39m_update_inplace(obj)\n",
      "File \u001b[1;32mc:\\Users\\Mostafizur\\AppData\\Local\\Programs\\Python\\Python310\\lib\\site-packages\\pandas\\core\\generic.py:4311\u001b[0m, in \u001b[0;36mNDFrame._drop_axis\u001b[1;34m(self, labels, axis, level, errors, consolidate, only_slice)\u001b[0m\n\u001b[0;32m   4309\u001b[0m         new_axis \u001b[39m=\u001b[39m axis\u001b[39m.\u001b[39mdrop(labels, level\u001b[39m=\u001b[39mlevel, errors\u001b[39m=\u001b[39merrors)\n\u001b[0;32m   4310\u001b[0m     \u001b[39melse\u001b[39;00m:\n\u001b[1;32m-> 4311\u001b[0m         new_axis \u001b[39m=\u001b[39m axis\u001b[39m.\u001b[39;49mdrop(labels, errors\u001b[39m=\u001b[39;49merrors)\n\u001b[0;32m   4312\u001b[0m     indexer \u001b[39m=\u001b[39m axis\u001b[39m.\u001b[39mget_indexer(new_axis)\n\u001b[0;32m   4314\u001b[0m \u001b[39m# Case for non-unique axis\u001b[39;00m\n\u001b[0;32m   4315\u001b[0m \u001b[39melse\u001b[39;00m:\n",
      "File \u001b[1;32mc:\\Users\\Mostafizur\\AppData\\Local\\Programs\\Python\\Python310\\lib\\site-packages\\pandas\\core\\indexes\\base.py:6661\u001b[0m, in \u001b[0;36mIndex.drop\u001b[1;34m(self, labels, errors)\u001b[0m\n\u001b[0;32m   6659\u001b[0m \u001b[39mif\u001b[39;00m mask\u001b[39m.\u001b[39many():\n\u001b[0;32m   6660\u001b[0m     \u001b[39mif\u001b[39;00m errors \u001b[39m!=\u001b[39m \u001b[39m\"\u001b[39m\u001b[39mignore\u001b[39m\u001b[39m\"\u001b[39m:\n\u001b[1;32m-> 6661\u001b[0m         \u001b[39mraise\u001b[39;00m \u001b[39mKeyError\u001b[39;00m(\u001b[39mf\u001b[39m\u001b[39m\"\u001b[39m\u001b[39m{\u001b[39;00m\u001b[39mlist\u001b[39m(labels[mask])\u001b[39m}\u001b[39;00m\u001b[39m not found in axis\u001b[39m\u001b[39m\"\u001b[39m)\n\u001b[0;32m   6662\u001b[0m     indexer \u001b[39m=\u001b[39m indexer[\u001b[39m~\u001b[39mmask]\n\u001b[0;32m   6663\u001b[0m \u001b[39mreturn\u001b[39;00m \u001b[39mself\u001b[39m\u001b[39m.\u001b[39mdelete(indexer)\n",
      "\u001b[1;31mKeyError\u001b[0m: \"['Date'] not found in axis\""
     ]
    }
   ],
   "source": [
    "#drop Date\n",
    "df.drop('Date', axis=1, inplace=True)"
   ]
  },
  {
   "cell_type": "code",
   "execution_count": null,
   "metadata": {},
   "outputs": [
    {
     "data": {
      "text/html": [
       "<div>\n",
       "<style scoped>\n",
       "    .dataframe tbody tr th:only-of-type {\n",
       "        vertical-align: middle;\n",
       "    }\n",
       "\n",
       "    .dataframe tbody tr th {\n",
       "        vertical-align: top;\n",
       "    }\n",
       "\n",
       "    .dataframe thead th {\n",
       "        text-align: right;\n",
       "    }\n",
       "</style>\n",
       "<table border=\"1\" class=\"dataframe\">\n",
       "  <thead>\n",
       "    <tr style=\"text-align: right;\">\n",
       "      <th></th>\n",
       "      <th>Price</th>\n",
       "      <th>Open</th>\n",
       "      <th>High</th>\n",
       "      <th>Low</th>\n",
       "      <th>Vol.</th>\n",
       "      <th>Change %</th>\n",
       "    </tr>\n",
       "  </thead>\n",
       "  <tbody>\n",
       "    <tr>\n",
       "      <th>0</th>\n",
       "      <td>286.6</td>\n",
       "      <td>286.6</td>\n",
       "      <td>286.6</td>\n",
       "      <td>286.6</td>\n",
       "      <td>6.30</td>\n",
       "      <td>0.0</td>\n",
       "    </tr>\n",
       "    <tr>\n",
       "      <th>1</th>\n",
       "      <td>286.6</td>\n",
       "      <td>286.6</td>\n",
       "      <td>286.6</td>\n",
       "      <td>286.6</td>\n",
       "      <td>2.60</td>\n",
       "      <td>0.0</td>\n",
       "    </tr>\n",
       "    <tr>\n",
       "      <th>2</th>\n",
       "      <td>286.6</td>\n",
       "      <td>286.6</td>\n",
       "      <td>286.6</td>\n",
       "      <td>286.6</td>\n",
       "      <td>9.13</td>\n",
       "      <td>0.0</td>\n",
       "    </tr>\n",
       "    <tr>\n",
       "      <th>3</th>\n",
       "      <td>286.6</td>\n",
       "      <td>286.6</td>\n",
       "      <td>286.6</td>\n",
       "      <td>286.6</td>\n",
       "      <td>7.16</td>\n",
       "      <td>0.0</td>\n",
       "    </tr>\n",
       "    <tr>\n",
       "      <th>4</th>\n",
       "      <td>286.6</td>\n",
       "      <td>286.6</td>\n",
       "      <td>286.6</td>\n",
       "      <td>286.6</td>\n",
       "      <td>4.99</td>\n",
       "      <td>0.0</td>\n",
       "    </tr>\n",
       "  </tbody>\n",
       "</table>\n",
       "</div>"
      ],
      "text/plain": [
       "   Price   Open   High    Low  Vol.  Change %\n",
       "0  286.6  286.6  286.6  286.6  6.30       0.0\n",
       "1  286.6  286.6  286.6  286.6  2.60       0.0\n",
       "2  286.6  286.6  286.6  286.6  9.13       0.0\n",
       "3  286.6  286.6  286.6  286.6  7.16       0.0\n",
       "4  286.6  286.6  286.6  286.6  4.99       0.0"
      ]
     },
     "execution_count": 100,
     "metadata": {},
     "output_type": "execute_result"
    }
   ],
   "source": [
    "df.head()"
   ]
  },
  {
   "cell_type": "code",
   "execution_count": null,
   "metadata": {},
   "outputs": [
    {
     "name": "stdout",
     "output_type": "stream",
     "text": [
      "<class 'pandas.core.frame.DataFrame'>\n",
      "RangeIndex: 949 entries, 0 to 948\n",
      "Data columns (total 6 columns):\n",
      " #   Column    Non-Null Count  Dtype  \n",
      "---  ------    --------------  -----  \n",
      " 0   Price     949 non-null    float64\n",
      " 1   Open      949 non-null    float64\n",
      " 2   High      949 non-null    float64\n",
      " 3   Low       949 non-null    float64\n",
      " 4   Vol.      948 non-null    float64\n",
      " 5   Change %  949 non-null    float64\n",
      "dtypes: float64(6)\n",
      "memory usage: 44.6 KB\n"
     ]
    }
   ],
   "source": [
    "df.info()"
   ]
  },
  {
   "cell_type": "code",
   "execution_count": null,
   "metadata": {},
   "outputs": [
    {
     "name": "stdout",
     "output_type": "stream",
     "text": [
      "<class 'pandas.core.frame.DataFrame'>\n",
      "RangeIndex: 949 entries, 0 to 948\n",
      "Data columns (total 6 columns):\n",
      " #   Column    Non-Null Count  Dtype  \n",
      "---  ------    --------------  -----  \n",
      " 0   Price     949 non-null    float64\n",
      " 1   Open      949 non-null    float64\n",
      " 2   High      949 non-null    float64\n",
      " 3   Low       949 non-null    float64\n",
      " 4   Vol.      948 non-null    float64\n",
      " 5   Change %  949 non-null    float64\n",
      "dtypes: float64(6)\n",
      "memory usage: 44.6 KB\n"
     ]
    }
   ],
   "source": [
    "df.info()"
   ]
  },
  {
   "cell_type": "code",
   "execution_count": null,
   "metadata": {},
   "outputs": [
    {
     "data": {
      "text/plain": [
       "Price       0\n",
       "Open        0\n",
       "High        0\n",
       "Low         0\n",
       "Vol.        1\n",
       "Change %    0\n",
       "dtype: int64"
      ]
     },
     "execution_count": 104,
     "metadata": {},
     "output_type": "execute_result"
    }
   ],
   "source": [
    "# Check null values\n",
    "df.isnull().sum()"
   ]
  },
  {
   "cell_type": "code",
   "execution_count": null,
   "metadata": {},
   "outputs": [
    {
     "data": {
      "text/plain": [
       "Price       0\n",
       "Open        0\n",
       "High        0\n",
       "Low         0\n",
       "Vol.        1\n",
       "Change %    0\n",
       "dtype: int64"
      ]
     },
     "execution_count": 68,
     "metadata": {},
     "output_type": "execute_result"
    }
   ],
   "source": [
    "df.isnull().sum()"
   ]
  },
  {
   "cell_type": "code",
   "execution_count": null,
   "metadata": {},
   "outputs": [],
   "source": [
    "# Change null value to 0\n",
    "df.fillna(0, inplace=True)"
   ]
  },
  {
   "cell_type": "code",
   "execution_count": null,
   "metadata": {},
   "outputs": [],
   "source": [
    "# Change all values to int\n",
    "#df = df.astype(int)"
   ]
  },
  {
   "attachments": {},
   "cell_type": "markdown",
   "metadata": {},
   "source": [
    "### Data processing and visualization for Accuracy and Loss"
   ]
  },
  {
   "cell_type": "code",
   "execution_count": null,
   "metadata": {},
   "outputs": [
    {
     "data": {
      "text/plain": [
       "Price       0\n",
       "Open        0\n",
       "High        0\n",
       "Low         0\n",
       "Vol.        0\n",
       "Change %    0\n",
       "dtype: int64"
      ]
     },
     "execution_count": 107,
     "metadata": {},
     "output_type": "execute_result"
    }
   ],
   "source": [
    "# Check null values\n",
    "df.isnull().sum()"
   ]
  },
  {
   "cell_type": "code",
   "execution_count": null,
   "metadata": {},
   "outputs": [
    {
     "data": {
      "text/plain": [
       "2"
      ]
     },
     "execution_count": 108,
     "metadata": {},
     "output_type": "execute_result"
    }
   ],
   "source": [
    "# Check duplicate values\n",
    "df.duplicated().sum()"
   ]
  },
  {
   "cell_type": "code",
   "execution_count": null,
   "metadata": {},
   "outputs": [
    {
     "data": {
      "text/plain": [
       "<AxesSubplot:xlabel='Open'>"
      ]
     },
     "execution_count": 109,
     "metadata": {},
     "output_type": "execute_result"
    },
    {
     "data": {
      "image/png": "[encoded data removed]",
      "text/plain": [
       "<Figure size 640x480 with 1 Axes>"
      ]
     },
     "metadata": {},
     "output_type": "display_data"
    }
   ],
   "source": [
    "# Check Outliers\n",
    "sns.boxplot(x=df['Open'])\n",
    " "
   ]
  },
  {
   "cell_type": "code",
   "execution_count": null,
   "metadata": {},
   "outputs": [
    {
     "data": {
      "text/plain": [
       "Price       949\n",
       "Open        949\n",
       "High        949\n",
       "Low         949\n",
       "Vol.        949\n",
       "Change %    949\n",
       "dtype: int64"
      ]
     },
     "execution_count": 110,
     "metadata": {},
     "output_type": "execute_result"
    }
   ],
   "source": [
    "# Count Coulmns\n",
    "df.count()"
   ]
  },
  {
   "cell_type": "code",
   "execution_count": null,
   "metadata": {},
   "outputs": [
    {
     "name": "stdout",
     "output_type": "stream",
     "text": [
      "<class 'pandas.core.frame.DataFrame'>\n",
      "RangeIndex: 949 entries, 0 to 948\n",
      "Data columns (total 6 columns):\n",
      " #   Column    Non-Null Count  Dtype  \n",
      "---  ------    --------------  -----  \n",
      " 0   Price     949 non-null    float64\n",
      " 1   Open      949 non-null    float64\n",
      " 2   High      949 non-null    float64\n",
      " 3   Low       949 non-null    float64\n",
      " 4   Vol.      949 non-null    float64\n",
      " 5   Change %  949 non-null    float64\n",
      "dtypes: float64(6)\n",
      "memory usage: 44.6 KB\n"
     ]
    }
   ],
   "source": [
    "df.info()\n"
   ]
  },
  {
   "cell_type": "code",
   "execution_count": null,
   "metadata": {},
   "outputs": [
    {
     "data": {
      "text/html": [
       "<div>\n",
       "<style scoped>\n",
       "    .dataframe tbody tr th:only-of-type {\n",
       "        vertical-align: middle;\n",
       "    }\n",
       "\n",
       "    .dataframe tbody tr th {\n",
       "        vertical-align: top;\n",
       "    }\n",
       "\n",
       "    .dataframe thead th {\n",
       "        text-align: right;\n",
       "    }\n",
       "</style>\n",
       "<table border=\"1\" class=\"dataframe\">\n",
       "  <thead>\n",
       "    <tr style=\"text-align: right;\">\n",
       "      <th></th>\n",
       "      <th>Price</th>\n",
       "      <th>Open</th>\n",
       "      <th>High</th>\n",
       "      <th>Low</th>\n",
       "      <th>Vol.</th>\n",
       "      <th>Change %</th>\n",
       "    </tr>\n",
       "  </thead>\n",
       "  <tbody>\n",
       "    <tr>\n",
       "      <th>0</th>\n",
       "      <td>286.6</td>\n",
       "      <td>286.6</td>\n",
       "      <td>286.6</td>\n",
       "      <td>286.6</td>\n",
       "      <td>6.30</td>\n",
       "      <td>0.0</td>\n",
       "    </tr>\n",
       "    <tr>\n",
       "      <th>1</th>\n",
       "      <td>286.6</td>\n",
       "      <td>286.6</td>\n",
       "      <td>286.6</td>\n",
       "      <td>286.6</td>\n",
       "      <td>2.60</td>\n",
       "      <td>0.0</td>\n",
       "    </tr>\n",
       "    <tr>\n",
       "      <th>2</th>\n",
       "      <td>286.6</td>\n",
       "      <td>286.6</td>\n",
       "      <td>286.6</td>\n",
       "      <td>286.6</td>\n",
       "      <td>9.13</td>\n",
       "      <td>0.0</td>\n",
       "    </tr>\n",
       "    <tr>\n",
       "      <th>3</th>\n",
       "      <td>286.6</td>\n",
       "      <td>286.6</td>\n",
       "      <td>286.6</td>\n",
       "      <td>286.6</td>\n",
       "      <td>7.16</td>\n",
       "      <td>0.0</td>\n",
       "    </tr>\n",
       "    <tr>\n",
       "      <th>4</th>\n",
       "      <td>286.6</td>\n",
       "      <td>286.6</td>\n",
       "      <td>286.6</td>\n",
       "      <td>286.6</td>\n",
       "      <td>4.99</td>\n",
       "      <td>0.0</td>\n",
       "    </tr>\n",
       "  </tbody>\n",
       "</table>\n",
       "</div>"
      ],
      "text/plain": [
       "   Price   Open   High    Low  Vol.  Change %\n",
       "0  286.6  286.6  286.6  286.6  6.30       0.0\n",
       "1  286.6  286.6  286.6  286.6  2.60       0.0\n",
       "2  286.6  286.6  286.6  286.6  9.13       0.0\n",
       "3  286.6  286.6  286.6  286.6  7.16       0.0\n",
       "4  286.6  286.6  286.6  286.6  4.99       0.0"
      ]
     },
     "execution_count": 112,
     "metadata": {},
     "output_type": "execute_result"
    }
   ],
   "source": [
    "df.head()"
   ]
  },
  {
   "cell_type": "code",
   "execution_count": null,
   "metadata": {},
   "outputs": [
    {
     "data": {
      "text/html": [
       "<div>\n",
       "<style scoped>\n",
       "    .dataframe tbody tr th:only-of-type {\n",
       "        vertical-align: middle;\n",
       "    }\n",
       "\n",
       "    .dataframe tbody tr th {\n",
       "        vertical-align: top;\n",
       "    }\n",
       "\n",
       "    .dataframe thead th {\n",
       "        text-align: right;\n",
       "    }\n",
       "</style>\n",
       "<table border=\"1\" class=\"dataframe\">\n",
       "  <thead>\n",
       "    <tr style=\"text-align: right;\">\n",
       "      <th></th>\n",
       "      <th>Price</th>\n",
       "      <th>Open</th>\n",
       "      <th>High</th>\n",
       "      <th>Low</th>\n",
       "      <th>Vol.</th>\n",
       "      <th>Change %</th>\n",
       "    </tr>\n",
       "  </thead>\n",
       "  <tbody>\n",
       "    <tr>\n",
       "      <th>Price</th>\n",
       "      <td>1.000000</td>\n",
       "      <td>0.987428</td>\n",
       "      <td>0.997268</td>\n",
       "      <td>0.997254</td>\n",
       "      <td>0.085983</td>\n",
       "      <td>0.054438</td>\n",
       "    </tr>\n",
       "    <tr>\n",
       "      <th>Open</th>\n",
       "      <td>0.987428</td>\n",
       "      <td>1.000000</td>\n",
       "      <td>0.989482</td>\n",
       "      <td>0.989931</td>\n",
       "      <td>0.068831</td>\n",
       "      <td>-0.044137</td>\n",
       "    </tr>\n",
       "    <tr>\n",
       "      <th>High</th>\n",
       "      <td>0.997268</td>\n",
       "      <td>0.989482</td>\n",
       "      <td>1.000000</td>\n",
       "      <td>0.994010</td>\n",
       "      <td>0.114062</td>\n",
       "      <td>0.018509</td>\n",
       "    </tr>\n",
       "    <tr>\n",
       "      <th>Low</th>\n",
       "      <td>0.997254</td>\n",
       "      <td>0.989931</td>\n",
       "      <td>0.994010</td>\n",
       "      <td>1.000000</td>\n",
       "      <td>0.056099</td>\n",
       "      <td>0.011842</td>\n",
       "    </tr>\n",
       "    <tr>\n",
       "      <th>Vol.</th>\n",
       "      <td>0.085983</td>\n",
       "      <td>0.068831</td>\n",
       "      <td>0.114062</td>\n",
       "      <td>0.056099</td>\n",
       "      <td>1.000000</td>\n",
       "      <td>0.026614</td>\n",
       "    </tr>\n",
       "    <tr>\n",
       "      <th>Change %</th>\n",
       "      <td>0.054438</td>\n",
       "      <td>-0.044137</td>\n",
       "      <td>0.018509</td>\n",
       "      <td>0.011842</td>\n",
       "      <td>0.026614</td>\n",
       "      <td>1.000000</td>\n",
       "    </tr>\n",
       "  </tbody>\n",
       "</table>\n",
       "</div>"
      ],
      "text/plain": [
       "             Price      Open      High       Low      Vol.  Change %\n",
       "Price     1.000000  0.987428  0.997268  0.997254  0.085983  0.054438\n",
       "Open      0.987428  1.000000  0.989482  0.989931  0.068831 -0.044137\n",
       "High      0.997268  0.989482  1.000000  0.994010  0.114062  0.018509\n",
       "Low       0.997254  0.989931  0.994010  1.000000  0.056099  0.011842\n",
       "Vol.      0.085983  0.068831  0.114062  0.056099  1.000000  0.026614\n",
       "Change %  0.054438 -0.044137  0.018509  0.011842  0.026614  1.000000"
      ]
     },
     "execution_count": 113,
     "metadata": {},
     "output_type": "execute_result"
    }
   ],
   "source": [
    "# Check Correlation\n",
    "df.corr()\n",
    " "
   ]
  },
  {
   "cell_type": "code",
   "execution_count": null,
   "metadata": {},
   "outputs": [
    {
     "data": {
      "text/plain": [
       "<AxesSubplot:>"
      ]
     },
     "execution_count": 115,
     "metadata": {},
     "output_type": "execute_result"
    },
    {
     "data": {
      "image/png": "[encoded data removed]",
      "text/plain": [
       "<Figure size 1000x1000 with 2 Axes>"
      ]
     },
     "metadata": {},
     "output_type": "display_data"
    }
   ],
   "source": [
    "# Correlation Heatmap\n",
    "plt.figure(figsize=(10,10))\n",
    "sns.heatmap(df.corr(), annot=True, fmt='.0%')\n",
    " "
   ]
  },
  {
   "attachments": {},
   "cell_type": "markdown",
   "metadata": {},
   "source": [
    "#### Algorithm"
   ]
  }
 ],
 "metadata": {
  "kernelspec": {
   "display_name": "Python 3 (ipykernel)",
   "language": "python",
   "name": "python3"
  },
  "language_info": {
   "codemirror_mode": {
    "name": "ipython",
    "version": 3
   },
   "file_extension": ".py",
   "mimetype": "text/x-python",
   "name": "python",
   "nbconvert_exporter": "python",
   "pygments_lexer": "ipython3",
   "version": "3.10.7"
  },
  "vscode": {
   "interpreter": {
    "hash": "28328718739f0b0dcd54909b78dca6ccaf0c916f6b7d08f276d2b5deebde5e28"
   }
  }
 },
 "nbformat": 4,
 "nbformat_minor": 2
}
